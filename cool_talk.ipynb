{
 "cells": [
  {
   "cell_type": "markdown",
   "metadata": {
    "slideshow": {
     "slide_type": "slide"
    }
   },
   "source": [
    "# Binder = <3\n",
    "\n",
    "http://mybinder.org"
   ]
  },
  {
   "cell_type": "markdown",
   "metadata": {
    "slideshow": {
     "slide_type": "subslide"
    }
   },
   "source": [
    "# Binder + Jupyer = <3 <3\n",
    "\n",
    "http://beta.mybinder.org"
   ]
  },
  {
   "cell_type": "markdown",
   "metadata": {
    "slideshow": {
     "slide_type": "subslide"
    }
   },
   "source": [
    "# Binder + Jupyter + Science = <3 <3 <3\n",
    "\n",
    "https://beta.mybinder.org/v2/gh/minrk/ligo-binder/master?filepath=index.ipynb"
   ]
  },
  {
   "cell_type": "markdown",
   "metadata": {
    "slideshow": {
     "slide_type": "slide"
    }
   },
   "source": [
    "# Two main components:\n",
    "* JupyterHub: http://z2jh.jupyter.org\n",
    "* repo2docker: http://github.com/jupyterhub/repo2docker"
   ]
  },
  {
   "cell_type": "markdown",
   "metadata": {
    "slideshow": {
     "slide_type": "subslide"
    }
   },
   "source": [
    "# repo2docker\n",
    "\n",
    "* Input the URL for a GitHub repo\n",
    "* Put a `requirements.txt`, `environment.yml` inside, along with some notebooks\n",
    "* It will create a Docker image with this environment"
   ]
  },
  {
   "cell_type": "markdown",
   "metadata": {
    "slideshow": {
     "slide_type": "subslide"
    }
   },
   "source": [
    "# JupyterHub\n",
    "\n",
    "**Give users access to your Jupyter notebooks via the cloud**<br />\n",
    "<img src=\"http://jupyter.org/assets/hublogo.svg\", style=\"width: 40%; float: left;\" />\n"
   ]
  },
  {
   "cell_type": "markdown",
   "metadata": {
    "slideshow": {
     "slide_type": "slide"
    }
   },
   "source": [
    "# Future stuff\n",
    "* R support\n",
    "* ~~Julia support~~\n",
    "* New UIs (RStudio, JulyterLab)\n",
    "* **Deploy your own Binders**"
   ]
  },
  {
   "cell_type": "code",
   "execution_count": null,
   "metadata": {
    "collapsed": true,
    "slideshow": {
     "slide_type": "slide"
    }
   },
   "outputs": [],
   "source": []
  }
 ],
 "metadata": {
  "celltoolbar": "Slideshow",
  "kernelspec": {
   "display_name": "Python 3",
   "language": "python",
   "name": "python3"
  },
  "language_info": {
   "codemirror_mode": {
    "name": "ipython",
    "version": 3
   },
   "file_extension": ".py",
   "mimetype": "text/x-python",
   "name": "python",
   "nbconvert_exporter": "python",
   "pygments_lexer": "ipython3",
   "version": "3.6.1"
  }
 },
 "nbformat": 4,
 "nbformat_minor": 2
}
